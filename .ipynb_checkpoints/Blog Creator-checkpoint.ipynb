{
 "cells": [
  {
   "cell_type": "markdown",
   "id": "bf4f0bb5-078d-4a60-bf19-2c8252e35b95",
   "metadata": {},
   "source": [
    "# Blog Creator"
   ]
  },
  {
   "cell_type": "code",
   "execution_count": 1,
   "id": "3b4b3c6e-bd71-4d7f-b422-095602fb9992",
   "metadata": {},
   "outputs": [],
   "source": [
    "import os\n",
    "import getpass\n",
    "import openai"
   ]
  },
  {
   "cell_type": "code",
   "execution_count": 2,
   "id": "f1f881e6-1345-47f2-b8c2-bdc440ae475f",
   "metadata": {},
   "outputs": [
    {
     "name": "stdin",
     "output_type": "stream",
     "text": [
      "Enter your OpenAI API key:  ········\n"
     ]
    }
   ],
   "source": [
    "os.environ[\"OPENAI_API_KEY\"] = getpass.getpass(\"Enter your OpenAI API key: \")"
   ]
  },
  {
   "cell_type": "code",
   "execution_count": 11,
   "id": "fe332581-e6d9-49ac-860e-72c6ba5c0204",
   "metadata": {},
   "outputs": [
    {
     "name": "stdout",
     "output_type": "stream",
     "text": [
      "Welcome to the Blog Creator!\n",
      "\n"
     ]
    },
    {
     "name": "stdin",
     "output_type": "stream",
     "text": [
      "Enter a topic for the blog:  generative ai\n",
      "Enter the maximum length in words:  200\n",
      "Enter the desired tone (e.g., informative, casual, professional):  casual\n"
     ]
    },
    {
     "name": "stdout",
     "output_type": "stream",
     "text": [
      "\n",
      "Here's your blog post:\n",
      "\n",
      "Hey there tech enthusiasts! Today, let's dive into the fascinating world of generative AI. Imagine having a virtual artist or writer right at your fingertips, creating unique content or artwork based on patterns and data it has learned. That's the beauty of generative AI - it's like having a digital creative partner by your side.\n",
      "\n",
      "One of the coolest things about generative AI is its ability to come up with new, original ideas that you might not have thought of yourself. Whether it's generating music, art, or even writing stories, the possibilities are endless. It's like having a brainstorming buddy that never gets tired!\n",
      "\n",
      "Of course, like any technology, there are both benefits and challenges to using generative AI. While it can save time and spark creativity, it also raises questions about originality and ethics in art and content creation. As we continue to explore the capabilities of generative AI, one thing is for sure - it's an exciting time to be a part of the tech world!\n",
      "\n",
      "So next time you're feeling stuck or just looking for some creative inspiration, why not give generative AI a try? Who knows, you might just discover a whole new world of possibilities right at your fingertips.\n"
     ]
    }
   ],
   "source": [
    "from openai import OpenAI\n",
    "\n",
    "# Initialize the OpenAI client\n",
    "client = OpenAI()\n",
    "\n",
    "def create_blog_post(topic, length=300, tone=\"informative\"):\n",
    "    prompt = f\"Write a blog post about {topic}. The tone should be {tone}. Limit it to approximately {length} words.\"\n",
    "    \n",
    "    try:\n",
    "        response = client.chat.completions.create(\n",
    "            model=\"gpt-4o-mini\",  # or \"gpt-4\" if you have access\n",
    "            messages=[\n",
    "                {\"role\": \"system\", \"content\": \"You are an expert blog writer\"},\n",
    "                {\"role\": \"user\", \"content\": prompt},\n",
    "            ]\n",
    "        )\n",
    "        \n",
    "        return response.choices[0].message.content\n",
    "    except Exception as e:\n",
    "        print(f\"An error occurred: {e}\")\n",
    "        return None\n",
    "\n",
    "def main():\n",
    "    print(\"Welcome to the Blog Creator!\\n\")\n",
    "    topic = input(\"Enter a topic for the blog: \")\n",
    "    length = int(input(\"Enter the maximum length in words: \"))\n",
    "    tone = input(\"Enter the desired tone (e.g., informative, casual, professional): \")\n",
    "    \n",
    "    blog_text = create_blog_post(topic, length, tone)\n",
    "    \n",
    "    if blog_text:\n",
    "        print(\"\\nHere's your blog post:\\n\")\n",
    "        print(blog_text)\n",
    "    else:\n",
    "        print(\"Failed to generate the blog post. Please check your API key and try again.\")\n",
    "\n",
    "if __name__ == \"__main__\":\n",
    "    main()"
   ]
  },
  {
   "cell_type": "code",
   "execution_count": null,
   "id": "de29e7fe-4e3e-4761-9dd9-e9ccf81af6c0",
   "metadata": {},
   "outputs": [],
   "source": []
  }
 ],
 "metadata": {
  "kernelspec": {
   "display_name": "Python 3 (ipykernel)",
   "language": "python",
   "name": "python3"
  },
  "language_info": {
   "codemirror_mode": {
    "name": "ipython",
    "version": 3
   },
   "file_extension": ".py",
   "mimetype": "text/x-python",
   "name": "python",
   "nbconvert_exporter": "python",
   "pygments_lexer": "ipython3",
   "version": "3.11.4"
  }
 },
 "nbformat": 4,
 "nbformat_minor": 5
}
