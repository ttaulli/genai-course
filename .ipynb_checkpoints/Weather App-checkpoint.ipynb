{
 "cells": [
  {
   "cell_type": "markdown",
   "id": "9c62bd26-c925-456d-883c-35bda175614b",
   "metadata": {},
   "source": [
    "# Weather App"
   ]
  },
  {
   "cell_type": "code",
   "execution_count": 1,
   "id": "46392f2c-14e1-4e58-b264-bdada668a9b1",
   "metadata": {},
   "outputs": [],
   "source": [
    "import os\n",
    "import getpass\n",
    "import openai"
   ]
  },
  {
   "cell_type": "code",
   "execution_count": 2,
   "id": "f1798f14-4b24-48d6-a5ac-a7f8084104d7",
   "metadata": {},
   "outputs": [
    {
     "name": "stdin",
     "output_type": "stream",
     "text": [
      "Enter your OpenAI API key:  ········\n"
     ]
    }
   ],
   "source": [
    "os.environ[\"OPENAI_API_KEY\"] = getpass.getpass(\"Enter your OpenAI API key: \")"
   ]
  },
  {
   "cell_type": "code",
   "execution_count": null,
   "id": "37878d86-cfb1-4dde-a231-8e4492407f8e",
   "metadata": {},
   "outputs": [],
   "source": [
    "pip install langchain\n",
    "pip install langchain-openai"
   ]
  },
  {
   "cell_type": "code",
   "execution_count": 4,
   "id": "7210e691-cd70-4051-a09b-a9872291a12e",
   "metadata": {},
   "outputs": [],
   "source": [
    "import requests\n",
    "from langchain_openai import ChatOpenAI\n",
    "from langchain_core.prompts import ChatPromptTemplate\n",
    "from langchain_core.output_parsers import StrOutputParser"
   ]
  },
  {
   "cell_type": "code",
   "execution_count": 5,
   "id": "63dccaa3-862b-40db-8fd8-5a7a3b13387a",
   "metadata": {},
   "outputs": [],
   "source": [
    "model = ChatOpenAI(model='gpt-4o-mini')"
   ]
  },
  {
   "cell_type": "code",
   "execution_count": 12,
   "id": "2023e62a-262a-43e9-b3e6-5c2f0bcb34cd",
   "metadata": {},
   "outputs": [
    {
     "name": "stdin",
     "output_type": "stream",
     "text": [
      "Enter your OpenAI API key:  ········\n"
     ]
    },
    {
     "name": "stdout",
     "output_type": "stream",
     "text": [
      "5713368301d35528e4ecf77aa1aba82d\n"
     ]
    }
   ],
   "source": [
    "os.environ[\"OPENWEATHER_API_KEY\"] = getpass.getpass(\"Enter your OpenAI API key: \")\n",
    "\n",
    "BASE_URL = \"http://api.openweathermap.org/data/3.0/weather\"\n",
    "\n",
    "openweather_api_key = os.environ[\"OPENWEATHER_API_KEY\"]\n",
    "\n",
    "def get_weather_data(location: str) -> dict:\n",
    "    \"\"\"Fetch weather data from OpenWeatherMap API.\"\"\"\n",
    "    params = {\n",
    "        \"q\": location,\n",
    "        \"appid\": openweather_api_key,\n",
    "        \"units\": \"metric\"\n",
    "    }\n",
    "    response = requests.get(BASE_URL, params=params)\n",
    "    return response.json()"
   ]
  },
  {
   "cell_type": "code",
   "execution_count": 7,
   "id": "1a79aa9c-c41a-43dc-8b1c-1f3f345241cb",
   "metadata": {},
   "outputs": [],
   "source": [
    "# Create a prompt template\n",
    "prompt = ChatPromptTemplate.from_messages([\n",
    "    (\"system\", \"You are a helpful weather assistant. Provide a brief, friendly weather forecast based on the given data.\"),\n",
    "    (\"human\", \"Here's the weather data for {location}: {weather_data}. Can you provide a brief, friendly summary?\")\n",
    "])"
   ]
  },
  {
   "cell_type": "code",
   "execution_count": 8,
   "id": "279aa7e4-2f15-436b-a71d-29dc7665ab65",
   "metadata": {},
   "outputs": [],
   "source": [
    "# Create the chain using LCEL\n",
    "chain = prompt | model | StrOutputParser()\n",
    "\n",
    "def get_weather_forecast(location: str) -> str:\n",
    "    \"\"\"Get a friendly weather forecast for a given location.\"\"\"\n",
    "    weather_data = get_weather_data(location)\n",
    "    return chain.invoke({\"location\": location, \"weather_data\": weather_data})"
   ]
  },
  {
   "cell_type": "code",
   "execution_count": 9,
   "id": "884894c4-b686-4e97-b485-1f8e82c7392f",
   "metadata": {},
   "outputs": [
    {
     "name": "stdin",
     "output_type": "stream",
     "text": [
      "Enter a location:  Pasadena, CA\n"
     ]
    },
    {
     "name": "stdout",
     "output_type": "stream",
     "text": [
      "Weather forecast for Pasadena, CA:\n",
      "It seems there was an error retrieving the latest weather data for Pasadena, CA. However, I can tell you that Pasadena generally enjoys a warm and sunny climate, especially this time of year. You can usually expect mild temperatures and plenty of sunshine! If you're planning to be outside, it's a great time to enjoy the beautiful weather. Don't forget to stay hydrated! If you need more specific information, checking a local weather service might be helpful. Enjoy your day!\n"
     ]
    }
   ],
   "source": [
    "if __name__ == \"__main__\":\n",
    "    location = input(\"Enter a location: \")\n",
    "    try:\n",
    "        forecast = get_weather_forecast(location)\n",
    "        print(f\"Weather forecast for {location}:\")\n",
    "        print(forecast)\n",
    "    except Exception as e:\n",
    "        print(f\"An error occurred: {e}\")\n",
    "        print(\"Please check your API key and ensure the location is valid.\")"
   ]
  },
  {
   "cell_type": "code",
   "execution_count": null,
   "id": "19cf23f2-f404-4391-9279-dc20be7af684",
   "metadata": {},
   "outputs": [],
   "source": []
  }
 ],
 "metadata": {
  "kernelspec": {
   "display_name": "Python 3 (ipykernel)",
   "language": "python",
   "name": "python3"
  },
  "language_info": {
   "codemirror_mode": {
    "name": "ipython",
    "version": 3
   },
   "file_extension": ".py",
   "mimetype": "text/x-python",
   "name": "python",
   "nbconvert_exporter": "python",
   "pygments_lexer": "ipython3",
   "version": "3.12.4"
  }
 },
 "nbformat": 4,
 "nbformat_minor": 5
}
