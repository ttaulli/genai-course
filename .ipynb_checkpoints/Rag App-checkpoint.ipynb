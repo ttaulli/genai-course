{
 "cells": [
  {
   "cell_type": "markdown",
   "id": "036fcfef-139c-40e3-96ed-63acc511bda3",
   "metadata": {},
   "source": [
    "# RAG App"
   ]
  },
  {
   "cell_type": "code",
   "execution_count": 1,
   "id": "bfec0f19-bf2f-4241-bb16-b6f6dd23137c",
   "metadata": {},
   "outputs": [],
   "source": [
    "# pip install chromadb"
   ]
  },
  {
   "cell_type": "code",
   "execution_count": 2,
   "id": "a226519c-58db-487f-80c3-ed98ffdda9d1",
   "metadata": {},
   "outputs": [],
   "source": [
    "import os\n",
    "import getpass\n",
    "import openai"
   ]
  },
  {
   "cell_type": "code",
   "execution_count": 3,
   "id": "5ca01f28-9eed-48e7-a0a7-7b8a74aa2957",
   "metadata": {},
   "outputs": [
    {
     "name": "stdin",
     "output_type": "stream",
     "text": [
      "Enter your OpenAI API key:  ········\n"
     ]
    }
   ],
   "source": [
    "os.environ[\"OPENAI_API_KEY\"] = getpass.getpass(\"Enter your OpenAI API key: \")"
   ]
  },
  {
   "cell_type": "code",
   "execution_count": 4,
   "id": "bcecc233-5d03-46a8-bb26-a6a6904fcf59",
   "metadata": {},
   "outputs": [],
   "source": [
    "import sys\n",
    "from langchain_community.document_loaders import TextLoader\n",
    "from langchain_openai import OpenAIEmbeddings\n",
    "from langchain_community.vectorstores import Chroma\n",
    "from langchain.text_splitter import CharacterTextSplitter\n",
    "from langchain_openai import ChatOpenAI\n",
    "from langchain.chains import RetrievalQA\n",
    "from langchain.prompts import PromptTemplate"
   ]
  },
  {
   "cell_type": "code",
   "execution_count": 6,
   "id": "a7efcd33-b5b1-449a-90ed-6d567b331ce0",
   "metadata": {},
   "outputs": [
    {
     "name": "stdout",
     "output_type": "stream",
     "text": [
      "Yes, there is Paid Time Off (PTO) for employees. Full-time employees earn 15 days of PTO per year, which can be used for vacation, personal days, or sick leave.\n"
     ]
    }
   ],
   "source": [
    "def main():\n",
    "    try:\n",
    "        # 1. Load the document\n",
    "        loader = TextLoader(\"hr.txt\")\n",
    "        documents = loader.load()\n",
    "\n",
    "        # 2. Split the text into chunks\n",
    "        text_splitter = CharacterTextSplitter(chunk_size=1000, chunk_overlap=0)\n",
    "        texts = text_splitter.split_documents(documents)\n",
    "\n",
    "        # 3. Create embeddings and store them in a vector database\n",
    "        embeddings = OpenAIEmbeddings()\n",
    "        vectorstore = Chroma.from_documents(texts, embeddings)\n",
    "\n",
    "        # 4. Create a retriever\n",
    "        retriever = vectorstore.as_retriever(search_kwargs={\"k\": 2})\n",
    "\n",
    "        # 5. Create a ChatOpenAI model\n",
    "        llm = ChatOpenAI(model_name=\"gpt-4o-mini\", temperature=0)\n",
    "\n",
    "        # 6. Create a custom prompt template\n",
    "        template = \"\"\"Use the following pieces of context to answer the question at the end. \n",
    "        If you don't know the answer, just say that you don't know, don't try to make up an answer.\n",
    "\n",
    "        {context}\n",
    "\n",
    "        Question: {question}\n",
    "        Answer: \"\"\"\n",
    "        QA_CHAIN_PROMPT = PromptTemplate(input_variables=[\"context\", \"question\"],template=template)\n",
    "\n",
    "        # 7. Create the RAG pipeline\n",
    "        qa_chain = RetrievalQA.from_chain_type(\n",
    "            llm,\n",
    "            retriever=retriever,\n",
    "            chain_type_kwargs={\"prompt\": QA_CHAIN_PROMPT}\n",
    "        )\n",
    "\n",
    "        # 8. Ask a question\n",
    "        question = \"Is there PTO\"\n",
    "        result = qa_chain({\"query\": question})\n",
    "        print(result[\"result\"])\n",
    "\n",
    "    except Exception as e:\n",
    "        print(f\"An error occurred: {e}\")\n",
    "        print(\"Python version:\", sys.version)\n",
    "        print(\"LangChain version:\", langchain.__version__)\n",
    "\n",
    "if __name__ == \"__main__\":\n",
    "    main()"
   ]
  },
  {
   "cell_type": "code",
   "execution_count": null,
   "id": "a82a9706-451b-475f-b53f-6ffd07ab5a5e",
   "metadata": {},
   "outputs": [],
   "source": []
  }
 ],
 "metadata": {
  "kernelspec": {
   "display_name": "Python 3 (ipykernel)",
   "language": "python",
   "name": "python3"
  },
  "language_info": {
   "codemirror_mode": {
    "name": "ipython",
    "version": 3
   },
   "file_extension": ".py",
   "mimetype": "text/x-python",
   "name": "python",
   "nbconvert_exporter": "python",
   "pygments_lexer": "ipython3",
   "version": "3.12.4"
  }
 },
 "nbformat": 4,
 "nbformat_minor": 5
}
