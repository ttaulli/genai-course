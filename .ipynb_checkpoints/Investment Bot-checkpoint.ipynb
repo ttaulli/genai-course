{
 "cells": [
  {
   "cell_type": "markdown",
   "id": "48b3ca0e-7313-43f2-bef3-1a5118a9039c",
   "metadata": {},
   "source": [
    "# Investment Bot"
   ]
  },
  {
   "cell_type": "code",
   "execution_count": null,
   "id": "94d78aec-918d-4afb-8ef1-8297fefd2254",
   "metadata": {},
   "outputs": [],
   "source": [
    "import os\n",
    "import getpass\n",
    "import openai"
   ]
  },
  {
   "cell_type": "code",
   "execution_count": null,
   "id": "40e32479-b781-4223-9396-7150cf2356aa",
   "metadata": {},
   "outputs": [],
   "source": [
    "os.environ[\"OPENAI_API_KEY\"] = getpass.getpass(\"Enter your OpenAI API key: \")"
   ]
  },
  {
   "cell_type": "code",
   "execution_count": null,
   "id": "774e0021-1447-4938-ada8-2f4cdf471763",
   "metadata": {},
   "outputs": [],
   "source": [
    "# Create the Assistant"
   ]
  },
  {
   "cell_type": "code",
   "execution_count": null,
   "id": "447f57c9-fa58-4b72-83c9-99d40d2c5ef1",
   "metadata": {},
   "outputs": [],
   "source": [
    "from openai import OpenAI\n",
    "client = OpenAI()\n",
    "  \n",
    "assistant = client.beta.assistants.create(\n",
    "  name=\"Investing Bot\",\n",
    "  instructions=\"You are an expert in calculating investments.\",\n",
    "  tools=[{\"type\": \"code_interpreter\"}],\n",
    "  model=\"gpt-4o-mini\",\n",
    ")"
   ]
  },
  {
   "cell_type": "code",
   "execution_count": null,
   "id": "d9b91487-7b2d-44a8-811f-6e1148639027",
   "metadata": {},
   "outputs": [],
   "source": [
    "# Create the Thread"
   ]
  },
  {
   "cell_type": "code",
   "execution_count": null,
   "id": "408600cd-200c-4035-910c-d681bf930686",
   "metadata": {},
   "outputs": [],
   "source": [
    "thread = client.beta.threads.create()"
   ]
  },
  {
   "cell_type": "code",
   "execution_count": null,
   "id": "1e09804a-0736-4e14-9726-0ca925feefad",
   "metadata": {},
   "outputs": [],
   "source": [
    "# Add a message to the thread"
   ]
  },
  {
   "cell_type": "code",
   "execution_count": null,
   "id": "3b7b3df1-2e07-45ce-aafb-5b6f649ede5f",
   "metadata": {},
   "outputs": [],
   "source": [
    "message = client.beta.threads.messages.create(\n",
    "  thread_id=thread.id,\n",
    "  role=\"user\",\n",
    "  content=\"You have $10,000 to invest.  You want to double your money in 20 years.  What average return will you need to get?\"\n",
    ")"
   ]
  },
  {
   "cell_type": "code",
   "execution_count": null,
   "id": "95a02418-3e2a-4dce-a95b-ad0dcbb075aa",
   "metadata": {},
   "outputs": [],
   "source": [
    "# Run the Assisant"
   ]
  },
  {
   "cell_type": "code",
   "execution_count": null,
   "id": "bd6e91fc-cc15-4a29-af7e-bd56ec51d5a5",
   "metadata": {},
   "outputs": [],
   "source": [
    "run = client.beta.threads.runs.create(\n",
    "  thread_id=thread.id,\n",
    "  assistant_id=assistant.id,\n",
    "  instructions=\"Provide detailed analysis.\"\n",
    ")"
   ]
  },
  {
   "cell_type": "code",
   "execution_count": null,
   "id": "cc413c1f-e0f8-4b8a-b6c2-f6ee43a74cea",
   "metadata": {},
   "outputs": [],
   "source": [
    "import time\n",
    "\n",
    "while run.status != \"completed\":\n",
    "    run = client.beta.threads.runs.retrieve(\n",
    "        thread_id=thread.id,\n",
    "        run_id=run.id\n",
    "    )\n",
    "    print(run.status)\n",
    "    time.sleep(5)"
   ]
  },
  {
   "cell_type": "code",
   "execution_count": null,
   "id": "3738a5ac-233d-4ddf-89bd-9a6c86a755a6",
   "metadata": {},
   "outputs": [],
   "source": [
    "messages = client.beta.threads.messages.list(\n",
    "  thread_id=thread.id\n",
    ")"
   ]
  },
  {
   "cell_type": "code",
   "execution_count": null,
   "id": "8dfce170-9d37-4f78-b4ba-31c6c4e8a2f3",
   "metadata": {},
   "outputs": [],
   "source": [
    "for thread_message in messages.data[::-1]:\n",
    "    print(thread_message.content[0].text.value)\n",
    "    print('\\n')"
   ]
  },
  {
   "cell_type": "code",
   "execution_count": null,
   "id": "5beb6924-738e-4dc6-9228-50483a4e750c",
   "metadata": {},
   "outputs": [],
   "source": [
    "my_assistants = client.beta.assistants.list(\n",
    "    order=\"desc\",\n",
    "    limit=\"20\",\n",
    ")\n",
    "print(my_assistants.data)"
   ]
  },
  {
   "cell_type": "code",
   "execution_count": null,
   "id": "5a728ac9-1328-4336-8a80-16decb8b38af",
   "metadata": {},
   "outputs": [],
   "source": [
    "response = client.beta.assistants.delete(my_assistants.data[0].id)\n"
   ]
  },
  {
   "cell_type": "code",
   "execution_count": null,
   "id": "9ff7fd04-805a-4a5b-a82a-a4735886eb6d",
   "metadata": {},
   "outputs": [],
   "source": []
  }
 ],
 "metadata": {
  "kernelspec": {
   "display_name": "Python 3 (ipykernel)",
   "language": "python",
   "name": "python3"
  },
  "language_info": {
   "codemirror_mode": {
    "name": "ipython",
    "version": 3
   },
   "file_extension": ".py",
   "mimetype": "text/x-python",
   "name": "python",
   "nbconvert_exporter": "python",
   "pygments_lexer": "ipython3",
   "version": "3.12.4"
  }
 },
 "nbformat": 4,
 "nbformat_minor": 5
}
