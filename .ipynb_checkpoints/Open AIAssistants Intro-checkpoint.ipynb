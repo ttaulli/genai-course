{
 "cells": [
  {
   "cell_type": "markdown",
   "id": "94f37f4d-a7d5-4ded-855d-5c7524cbaa1e",
   "metadata": {},
   "source": [
    "# OpenAI Assistants API Introduction"
   ]
  },
  {
   "cell_type": "code",
   "execution_count": null,
   "id": "140e0966-da7e-45ea-9143-b29580a79dc8",
   "metadata": {},
   "outputs": [],
   "source": [
    "import openai\n",
    "import os\n",
    "import getpass"
   ]
  },
  {
   "cell_type": "code",
   "execution_count": null,
   "id": "8fbffcf2-c3ec-4d75-820f-d530d7b976a0",
   "metadata": {},
   "outputs": [],
   "source": [
    "os.environ[\"OPENAI_API_KEY\"] = getpass.getpass(\"Enter your OpenAI API key: \")"
   ]
  },
  {
   "cell_type": "code",
   "execution_count": null,
   "id": "9963623c-7877-41c6-81ce-4c9a147a3558",
   "metadata": {},
   "outputs": [],
   "source": [
    "from openai import OpenAI\n",
    "\n",
    "client = OpenAI()"
   ]
  },
  {
   "cell_type": "code",
   "execution_count": null,
   "id": "d0d5781a-6f5d-4fb1-be45-b485a995a526",
   "metadata": {},
   "outputs": [],
   "source": [
    "from openai import OpenAI\n",
    "client = OpenAI()\n",
    "  \n",
    "assistant = client.beta.assistants.create(\n",
    "  name=\"Math Tutor\",\n",
    "  instructions=\"You are a personal math tutor. Write and run code to answer math questions.\",\n",
    "  tools=[{\"type\": \"code_interpreter\"}],\n",
    "  model=\"gpt-4o\",\n",
    ")\n"
   ]
  },
  {
   "cell_type": "code",
   "execution_count": null,
   "id": "b1c75b2a-5156-4e74-8682-306782192444",
   "metadata": {},
   "outputs": [],
   "source": [
    "# an assistant will have a unique id"
   ]
  },
  {
   "cell_type": "code",
   "execution_count": null,
   "id": "0ace5a37-8751-4edc-be5a-1f8cc532261c",
   "metadata": {},
   "outputs": [],
   "source": [
    "assistant.id"
   ]
  },
  {
   "cell_type": "code",
   "execution_count": null,
   "id": "c5463d4b-17d8-4584-8e92-cbd749ec33b6",
   "metadata": {},
   "outputs": [],
   "source": [
    "# we have a thread"
   ]
  },
  {
   "cell_type": "code",
   "execution_count": null,
   "id": "4601d2cd-e87b-45c5-a11b-9facd4b8e766",
   "metadata": {},
   "outputs": [],
   "source": [
    "thread = client.beta.threads.create()"
   ]
  },
  {
   "cell_type": "code",
   "execution_count": null,
   "id": "91f320a5-64ef-46ca-b4f9-05c0a88e0fdb",
   "metadata": {},
   "outputs": [],
   "source": [
    "# no need for system since we have that for instructions above"
   ]
  },
  {
   "cell_type": "code",
   "execution_count": null,
   "id": "6176d057-f1ed-4c4e-8536-9f59221bb600",
   "metadata": {},
   "outputs": [],
   "source": [
    "message = client.beta.threads.messages.create(\n",
    "  thread_id=thread.id,\n",
    "  role=\"user\",\n",
    "  content=\"What is 1213456 times 456789?\"\n",
    ")"
   ]
  },
  {
   "cell_type": "code",
   "execution_count": null,
   "id": "53297723-5a33-4788-961a-21ad3d144ac8",
   "metadata": {},
   "outputs": [],
   "source": [
    "# can take some time to run this, because they use a lot of resources"
   ]
  },
  {
   "cell_type": "code",
   "execution_count": null,
   "id": "798eae07-9152-4839-98ed-5e626ad0a671",
   "metadata": {},
   "outputs": [],
   "source": [
    "run = client.beta.threads.runs.create(\n",
    "    thread_id=thread.id,\n",
    "    assistant_id=assistant.id)"
   ]
  },
  {
   "cell_type": "code",
   "execution_count": null,
   "id": "07e4ffd0-d714-4f4f-9d01-7a02ced8d37a",
   "metadata": {},
   "outputs": [],
   "source": [
    "run.id"
   ]
  },
  {
   "cell_type": "code",
   "execution_count": null,
   "id": "915eadc5-6d58-497e-bfc1-77c573a77341",
   "metadata": {},
   "outputs": [],
   "source": [
    "# it will say completed when it is done"
   ]
  },
  {
   "cell_type": "code",
   "execution_count": null,
   "id": "9de1891e-8616-4382-8481-25afce984e30",
   "metadata": {},
   "outputs": [],
   "source": [
    "if run.status == 'completed': \n",
    "  messages = client.beta.threads.messages.list(\n",
    "    thread_id=thread.id\n",
    "  )\n",
    "  print(messages.data[0].content[0].text.value)\n",
    "else:\n",
    "  print(run.status)"
   ]
  },
  {
   "cell_type": "code",
   "execution_count": null,
   "id": "624521bd-0c95-4cb7-aa25-b2ddc7f9117b",
   "metadata": {},
   "outputs": [],
   "source": [
    "# see the steps"
   ]
  },
  {
   "cell_type": "code",
   "execution_count": null,
   "id": "becf6a4f-68cf-4e3b-901f-bc4086a1d2f9",
   "metadata": {},
   "outputs": [],
   "source": [
    "run_steps = client.beta.threads.runs.steps.list(thread_id=thread.id,run_id=run.id)\n"
   ]
  },
  {
   "cell_type": "code",
   "execution_count": null,
   "id": "c11c0957-a39f-4e27-94a9-4b175b903e06",
   "metadata": {},
   "outputs": [],
   "source": [
    "# this shows a tool call\n",
    "# ToolCallsStepDetails(tool_calls=[CodeInterpreterToolCall\n",
    "# there are two steps, in reverse order:  message and tools"
   ]
  },
  {
   "cell_type": "code",
   "execution_count": null,
   "id": "04e7df93-124f-4a15-91d3-5043ccb0e5fc",
   "metadata": {},
   "outputs": [],
   "source": [
    "for step in run_steps:\n",
    "    print(step.step_details)"
   ]
  },
  {
   "cell_type": "code",
   "execution_count": null,
   "id": "3a1edbfe-0472-427e-8ec1-12bfcacb9e2c",
   "metadata": {},
   "outputs": [],
   "source": []
  }
 ],
 "metadata": {
  "kernelspec": {
   "display_name": "Python 3 (ipykernel)",
   "language": "python",
   "name": "python3"
  },
  "language_info": {
   "codemirror_mode": {
    "name": "ipython",
    "version": 3
   },
   "file_extension": ".py",
   "mimetype": "text/x-python",
   "name": "python",
   "nbconvert_exporter": "python",
   "pygments_lexer": "ipython3",
   "version": "3.12.4"
  }
 },
 "nbformat": 4,
 "nbformat_minor": 5
}
