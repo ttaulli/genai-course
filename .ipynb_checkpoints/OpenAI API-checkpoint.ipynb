{
 "cells": [
  {
   "cell_type": "markdown",
   "id": "93d7c240-53a0-4519-8086-9e402fec3fae",
   "metadata": {},
   "source": [
    "# OpenAI API"
   ]
  },
  {
   "cell_type": "code",
   "execution_count": 2,
   "id": "4d1c8689-5794-4538-b923-88659e27c734",
   "metadata": {},
   "outputs": [],
   "source": [
    "# pip install openai"
   ]
  },
  {
   "cell_type": "code",
   "execution_count": 3,
   "id": "beba3d11-9ff7-4c73-aab0-e91f2e65cb0c",
   "metadata": {},
   "outputs": [],
   "source": [
    "import openai\n",
    "import os\n",
    "import getpass"
   ]
  },
  {
   "cell_type": "code",
   "execution_count": 4,
   "id": "c0971b62-91c9-49ed-ab6a-4813da1ab1d3",
   "metadata": {},
   "outputs": [
    {
     "name": "stdin",
     "output_type": "stream",
     "text": [
      " ········\n"
     ]
    }
   ],
   "source": [
    "# Set up the OpenAI API key\n",
    "os.environ[\"OPENAI_API_KEY\"] = getpass.getpass()"
   ]
  },
  {
   "cell_type": "code",
   "execution_count": 5,
   "id": "96c78279-1e55-4dae-ba00-c6cbc5fb0c77",
   "metadata": {},
   "outputs": [
    {
     "name": "stdout",
     "output_type": "stream",
     "text": [
      "ChatCompletionMessage(content='In the realm of code where logic entwines,  \\nLies recursion, a dance where the function reclines.  \\nA loop not of linear, but circular grace,  \\nWhere the heart of the problem finds its own pace.  \\n\\n“Oh, call me again!” the function does plea,  \\nWith each self-invocation, a new layer we see.  \\nA task, once so mighty, now broken apart,  \\nInto pieces so small, a beautiful art.  \\n\\nThe base case awaits like a light at the end,  \\nTo stop the descent, the loop must now bend.  \\nWithout it, the spiral will stretch far and wide,  \\nTo infinity’s grasp, nowhere to hide.  \\n\\nLike a mirror reflecting a story once told,  \\nEach call is a fragment, a piece to behold.  \\nFrom Fibonacci’s number to paths in a maze,  \\nRecursion unfolds in a wondrous cascade.  \\n\\nSo, fear not the depth, nor the calls that do stack,  \\nFor the beauty of recursion will always bring back  \\nA solution entwined in the threads of the call,  \\nA testament shining, through programming’s hall.  \\n\\nEmbrace the return, let the echoes ring clear,  \\nIn the dance of recursion, all paths will endear.  \\nWith wisdom in cycles, the code takes its form,  \\nIn the heart of recursion, creativity’s born.', role='assistant', function_call=None, tool_calls=None)\n"
     ]
    }
   ],
   "source": [
    "from openai import OpenAI\n",
    "client = OpenAI()\n",
    "\n",
    "completion = client.chat.completions.create(\n",
    "  model=\"gpt-4o-mini\",\n",
    "  messages=[\n",
    "    {\"role\": \"system\", \"content\": \"You are a poetic assistant, skilled in explaining complex programming concepts with creative flair.\"},\n",
    "    {\"role\": \"user\", \"content\": \"Compose a poem that explains the concept of recursion in programming.\"}\n",
    "  ]\n",
    ")\n",
    "\n",
    "print(completion.choices[0].message)\n",
    "\n"
   ]
  },
  {
   "cell_type": "code",
   "execution_count": null,
   "id": "fcc16b58-fc10-4193-bdfa-86e2c6aa968d",
   "metadata": {},
   "outputs": [],
   "source": []
  }
 ],
 "metadata": {
  "kernelspec": {
   "display_name": "Python 3 (ipykernel)",
   "language": "python",
   "name": "python3"
  },
  "language_info": {
   "codemirror_mode": {
    "name": "ipython",
    "version": 3
   },
   "file_extension": ".py",
   "mimetype": "text/x-python",
   "name": "python",
   "nbconvert_exporter": "python",
   "pygments_lexer": "ipython3",
   "version": "3.11.4"
  }
 },
 "nbformat": 4,
 "nbformat_minor": 5
}
