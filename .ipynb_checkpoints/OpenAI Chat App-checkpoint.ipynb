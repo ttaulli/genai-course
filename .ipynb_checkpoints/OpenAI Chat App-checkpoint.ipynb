{
 "cells": [
  {
   "cell_type": "markdown",
   "id": "28471ac4-1b13-487d-bf74-80f3cd4ad933",
   "metadata": {},
   "source": [
    "# OpenAI Chat App"
   ]
  },
  {
   "cell_type": "code",
   "execution_count": null,
   "id": "f92fbb4f-b553-405c-ac3e-b28cb297393a",
   "metadata": {},
   "outputs": [],
   "source": [
    "# !pip install gradio"
   ]
  },
  {
   "cell_type": "code",
   "execution_count": null,
   "id": "4617b7cc-e788-47c3-9fa2-0e7741f99c2a",
   "metadata": {},
   "outputs": [],
   "source": [
    "import os\n",
    "import getpass\n",
    "from openai import OpenAI\n",
    "import gradio as gr"
   ]
  },
  {
   "cell_type": "code",
   "execution_count": null,
   "id": "ee668c72-1108-47af-8b6e-cc814da871ab",
   "metadata": {},
   "outputs": [],
   "source": [
    "os.environ[\"OPENAI_API_KEY\"] = getpass.getpass(\"Enter your OpenAI API key: \")"
   ]
  },
  {
   "cell_type": "code",
   "execution_count": null,
   "id": "d424b7c8-34b1-495d-af4c-7f326849bc83",
   "metadata": {},
   "outputs": [],
   "source": [
    "client = OpenAI(api_key=os.environ.get(\"OPENAI_API_KEY\"))\n",
    "\n",
    "def chat_with_ada(message, history):\n",
    "    history_openai_format = []\n",
    "    for human, assistant in history:\n",
    "        history_openai_format.append({\"role\": \"user\", \"content\": human})\n",
    "        history_openai_format.append({\"role\": \"assistant\", \"content\": assistant})\n",
    "    history_openai_format.append({\"role\": \"user\", \"content\": message})\n",
    "\n",
    "    response = client.chat.completions.create(\n",
    "        model=\"gpt-4o-mini\",\n",
    "        messages=[\n",
    "            {\"role\": \"system\", \"content\": \"You are Ada, a helpful personal assistant. Your responses are concise and do not exceed one sentence.\"},\n",
    "            *history_openai_format\n",
    "        ]\n",
    "    )\n",
    "\n",
    "    return response.choices[0].message.content\n",
    "\n",
    "# Create the Gradio interface\n",
    "iface = gr.ChatInterface(\n",
    "    fn=chat_with_ada,\n",
    "    title=\"Chat with Ada\",\n",
    "    description=\"Ada is your personal assistant. Ask her anything!\",\n",
    "    examples=[\"What's the weather like today?\", \"Can you recommend a good book?\", \"What's the capital of France?\"],\n",
    "    retry_btn=None,\n",
    "    undo_btn=\"Delete Previous\",\n",
    "    clear_btn=\"Clear\",\n",
    ")\n",
    "\n",
    "# Launch the interface\n",
    "iface.launch()"
   ]
  },
  {
   "cell_type": "code",
   "execution_count": null,
   "id": "ff8328d1-bf84-4b38-b124-de402eb94201",
   "metadata": {},
   "outputs": [],
   "source": []
  }
 ],
 "metadata": {
  "kernelspec": {
   "display_name": "Python 3 (ipykernel)",
   "language": "python",
   "name": "python3"
  },
  "language_info": {
   "codemirror_mode": {
    "name": "ipython",
    "version": 3
   },
   "file_extension": ".py",
   "mimetype": "text/x-python",
   "name": "python",
   "nbconvert_exporter": "python",
   "pygments_lexer": "ipython3",
   "version": "3.12.4"
  }
 },
 "nbformat": 4,
 "nbformat_minor": 5
}
