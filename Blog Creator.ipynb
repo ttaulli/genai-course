{
 "cells": [
  {
   "cell_type": "markdown",
   "id": "bf4f0bb5-078d-4a60-bf19-2c8252e35b95",
   "metadata": {},
   "source": [
    "# Blog Creator"
   ]
  },
  {
   "cell_type": "code",
   "execution_count": 1,
   "id": "3b4b3c6e-bd71-4d7f-b422-095602fb9992",
   "metadata": {},
   "outputs": [],
   "source": [
    "import os\n",
    "import getpass\n",
    "import openai"
   ]
  },
  {
   "cell_type": "code",
   "execution_count": 2,
   "id": "f1f881e6-1345-47f2-b8c2-bdc440ae475f",
   "metadata": {},
   "outputs": [
    {
     "name": "stdin",
     "output_type": "stream",
     "text": [
      "Enter your OpenAI API key:  ········\n"
     ]
    }
   ],
   "source": [
    "os.environ[\"OPENAI_API_KEY\"] = getpass.getpass(\"Enter your OpenAI API key: \")"
   ]
  },
  {
   "cell_type": "code",
   "execution_count": 3,
   "id": "fe332581-e6d9-49ac-860e-72c6ba5c0204",
   "metadata": {},
   "outputs": [
    {
     "name": "stdout",
     "output_type": "stream",
     "text": [
      "Welcome to the Blog Creator!\n",
      "\n"
     ]
    },
    {
     "name": "stdin",
     "output_type": "stream",
     "text": [
      "Enter a topic for the blog:  Large Language Models\n",
      "Enter the maximum length in words:  200\n",
      "Enter the desired tone (e.g., informative, casual, professional):  professional\n"
     ]
    },
    {
     "name": "stdout",
     "output_type": "stream",
     "text": [
      "\n",
      "Here's your blog post:\n",
      "\n",
      "**Understanding Large Language Models: Transforming the Future of Communication**\n",
      "\n",
      "Large Language Models (LLMs) are at the forefront of artificial intelligence, revolutionizing how machines understand and generate human language. These models, powered by advanced algorithms and vast datasets, exhibit remarkable capabilities in tasks such as translation, summarization, and conversational engagement.\n",
      "\n",
      "One of the most notable examples of an LLM is OpenAI’s GPT series, renowned for its ability to generate coherent and contextually relevant text. The underlying technology relies on neural networks, specifically transformer architectures, which allow for nuanced understanding of language nuances, context, and semantics.\n",
      "\n",
      "The applications of LLMs are diverse, spanning industries such as customer service, content creation, and education. Their ability to engage in human-like interaction enhances user experiences while automating repetitive tasks, ultimately increasing productivity. \n",
      "\n",
      "However, the deployment of LLMs also raises significant ethical considerations, including biases in training data, misinformation, and data privacy concerns. As we harness the potential of this technology, it is essential to prioritize responsible usage, ensuring that that the benefits are realized while minimizing potential harm.\n",
      "\n",
      "In conclusion, Large Language Models are not just technological advancements; they represent a paradigm shift in human-computer interaction, poised to reshape communication as we know it.\n"
     ]
    }
   ],
   "source": [
    "from openai import OpenAI\n",
    "\n",
    "# Initialize the OpenAI client\n",
    "client = OpenAI()\n",
    "\n",
    "def create_blog_post(topic, length=300, tone=\"informative\"):\n",
    "    prompt = f\"Write a blog post about {topic}. The tone should be {tone}. Limit it to approximately {length} words.\"\n",
    "    \n",
    "    try:\n",
    "        response = client.chat.completions.create(\n",
    "            model=\"gpt-4o-mini\",  # or \"gpt-4\" if you have access\n",
    "            messages=[\n",
    "                {\"role\": \"system\", \"content\": \"You are an expert blog writer\"},\n",
    "                {\"role\": \"user\", \"content\": prompt},\n",
    "            ]\n",
    "        )\n",
    "        \n",
    "        return response.choices[0].message.content\n",
    "    except Exception as e:\n",
    "        print(f\"An error occurred: {e}\")\n",
    "        return None\n",
    "\n",
    "def main():\n",
    "    print(\"Welcome to the Blog Creator!\\n\")\n",
    "    topic = input(\"Enter a topic for the blog: \")\n",
    "    length = int(input(\"Enter the maximum length in words: \"))\n",
    "    tone = input(\"Enter the desired tone (e.g., informative, casual, professional): \")\n",
    "    \n",
    "    blog_text = create_blog_post(topic, length, tone)\n",
    "    \n",
    "    if blog_text:\n",
    "        print(\"\\nHere's your blog post:\\n\")\n",
    "        print(blog_text)\n",
    "    else:\n",
    "        print(\"Failed to generate the blog post. Please check your API key and try again.\")\n",
    "\n",
    "if __name__ == \"__main__\":\n",
    "    main()"
   ]
  },
  {
   "cell_type": "code",
   "execution_count": null,
   "id": "de29e7fe-4e3e-4761-9dd9-e9ccf81af6c0",
   "metadata": {},
   "outputs": [],
   "source": []
  }
 ],
 "metadata": {
  "kernelspec": {
   "display_name": "Python 3 (ipykernel)",
   "language": "python",
   "name": "python3"
  },
  "language_info": {
   "codemirror_mode": {
    "name": "ipython",
    "version": 3
   },
   "file_extension": ".py",
   "mimetype": "text/x-python",
   "name": "python",
   "nbconvert_exporter": "python",
   "pygments_lexer": "ipython3",
   "version": "3.12.4"
  }
 },
 "nbformat": 4,
 "nbformat_minor": 5
}
