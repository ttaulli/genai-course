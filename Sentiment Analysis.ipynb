{
 "cells": [
  {
   "cell_type": "markdown",
   "id": "0f5ceb68-c4a0-45eb-a910-4cb60fe98f6e",
   "metadata": {},
   "source": [
    "# Sentiment Analysis App"
   ]
  },
  {
   "cell_type": "code",
   "execution_count": null,
   "id": "8227ad84-2dd5-4f0a-877f-76c93d3b5703",
   "metadata": {},
   "outputs": [],
   "source": [
    "import openai\n",
    "import os\n",
    "import csv\n",
    "import getpass"
   ]
  },
  {
   "cell_type": "code",
   "execution_count": null,
   "id": "fb90f22d-550d-4170-ac57-5cf4433eb8de",
   "metadata": {},
   "outputs": [],
   "source": [
    "os.environ[\"OPENAI_API_KEY\"] = getpass.getpass(\"Enter your OpenAI API key: \")"
   ]
  },
  {
   "cell_type": "code",
   "execution_count": null,
   "id": "b2995ea0-1685-4807-b591-6ab54dbc7698",
   "metadata": {
    "scrolled": true
   },
   "outputs": [],
   "source": [
    "from openai import OpenAI\n",
    "\n",
    "\n",
    "client = OpenAI()\n",
    "\n",
    "def read_feedback(file_path):\n",
    "    with open(file_path, 'r') as csvfile:\n",
    "        return [row[0] for row in csv.reader(csvfile)][1:]  # Skip header\n",
    "\n",
    "def analyze_sentiments(comments, model=\"gpt-4o-mini\"):\n",
    "    system_content = \"\"\"Analyze the sentiment of each comment. For each, provide:\n",
    "    1. The sentiment (positive, negative, or neutral)\n",
    "    2. An appropriate emoji\n",
    "    Format your response for each comment as: sentiment | emoji\n",
    "    Do not include the comment text in your response.\"\"\"\n",
    "    \n",
    "    messages = [\n",
    "        {\"role\": \"system\", \"content\": system_content},\n",
    "        {\"role\": \"user\", \"content\": \"\\n\".join(f\"Comment: {comment}\" for comment in comments)}\n",
    "    ]\n",
    "    \n",
    "    response = client.chat.completions.create(model=model, messages=messages)\n",
    "    return response.choices[0].message.content.strip().split('\\n')\n",
    "\n",
    "def format_results(comments, analysis_results):\n",
    "    formatted_results = []\n",
    "    for comment, analysis in zip(comments, analysis_results):\n",
    "        sentiment, emoji = analysis.split('|')\n",
    "        formatted_results.append(f\"{comment} | {sentiment.strip()} | {emoji.strip()}\")\n",
    "    return formatted_results\n",
    "\n",
    "def main():\n",
    "    file_path = \"feedback.csv\"\n",
    "    comments = read_feedback(file_path)\n",
    "    analysis_results = analyze_sentiments(comments)\n",
    "    formatted_results = format_results(comments, analysis_results)\n",
    "\n",
    "    print(\"Sentiment Analysis Results:\")\n",
    "    for result in formatted_results:\n",
    "        print(result)\n",
    "\n",
    "if __name__ == \"__main__\":\n",
    "    main()"
   ]
  },
  {
   "cell_type": "code",
   "execution_count": null,
   "id": "976b00fe-30c9-4692-b5fd-d14d959e20e2",
   "metadata": {},
   "outputs": [],
   "source": []
  }
 ],
 "metadata": {
  "kernelspec": {
   "display_name": "Python 3 (ipykernel)",
   "language": "python",
   "name": "python3"
  },
  "language_info": {
   "codemirror_mode": {
    "name": "ipython",
    "version": 3
   },
   "file_extension": ".py",
   "mimetype": "text/x-python",
   "name": "python",
   "nbconvert_exporter": "python",
   "pygments_lexer": "ipython3",
   "version": "3.12.4"
  }
 },
 "nbformat": 4,
 "nbformat_minor": 5
}
