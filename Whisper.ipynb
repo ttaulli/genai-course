{
 "cells": [
  {
   "cell_type": "markdown",
   "id": "4f1b53d2-bad5-4d98-9597-6806727219a0",
   "metadata": {},
   "source": [
    "# Whisper"
   ]
  },
  {
   "cell_type": "code",
   "execution_count": null,
   "id": "87eecd5a-f7e2-4732-aaa4-7e4075c3c4ec",
   "metadata": {},
   "outputs": [],
   "source": [
    "import os\n",
    "import getpass\n",
    "import openai"
   ]
  },
  {
   "cell_type": "code",
   "execution_count": null,
   "id": "466bfe1e-3209-40d9-8aa6-059368087b3e",
   "metadata": {},
   "outputs": [],
   "source": [
    "os.environ[\"OPENAI_API_KEY\"] = getpass.getpass(\"Enter your OpenAI API key: \")"
   ]
  },
  {
   "cell_type": "code",
   "execution_count": null,
   "id": "f79c0777-d238-43ae-99dd-f0f2a04edb3f",
   "metadata": {},
   "outputs": [],
   "source": [
    "from openai import OpenAI\n",
    "client = OpenAI()\n",
    "\n",
    "audio_file= open(\"alanturing.mp4\", \"rb\")\n",
    "transcription = client.audio.transcriptions.create(\n",
    "  model=\"whisper-1\", \n",
    "  file=audio_file\n",
    ")\n",
    "print(transcription.text)"
   ]
  },
  {
   "cell_type": "code",
   "execution_count": null,
   "id": "fe189ba0-d62d-420e-8242-e53d9d677c61",
   "metadata": {},
   "outputs": [],
   "source": [
    "translation = client.chat.completions.create(\n",
    "    model=\"gpt-4o-mini\",\n",
    "    messages=[\n",
    "        {\"role\": \"system\", \"content\": \"You are a helpful assistant that translates English to German.\"},\n",
    "        {\"role\": \"user\", \"content\": f\"Translate the following English text to German: {transcription.text}\"}\n",
    "    ]\n",
    ")\n",
    "\n",
    "print(\"\\nGerman translation:\")\n",
    "print(translation.choices[0].message.content)"
   ]
  },
  {
   "cell_type": "code",
   "execution_count": null,
   "id": "8c696d79-6202-43d0-899b-7a76daa82dc3",
   "metadata": {},
   "outputs": [],
   "source": []
  }
 ],
 "metadata": {
  "kernelspec": {
   "display_name": "Python 3 (ipykernel)",
   "language": "python",
   "name": "python3"
  },
  "language_info": {
   "codemirror_mode": {
    "name": "ipython",
    "version": 3
   },
   "file_extension": ".py",
   "mimetype": "text/x-python",
   "name": "python",
   "nbconvert_exporter": "python",
   "pygments_lexer": "ipython3",
   "version": "3.12.4"
  }
 },
 "nbformat": 4,
 "nbformat_minor": 5
}
