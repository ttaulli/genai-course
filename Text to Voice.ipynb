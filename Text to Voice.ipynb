{
 "cells": [
  {
   "cell_type": "markdown",
   "id": "981b263c-31da-4601-bc26-fc041a8d48e3",
   "metadata": {},
   "source": [
    "# Text-to-Voice"
   ]
  },
  {
   "cell_type": "code",
   "execution_count": null,
   "id": "f47007e4-71c9-4334-aacc-2d7a93265b8f",
   "metadata": {},
   "outputs": [],
   "source": [
    "import os\n",
    "import getpass\n",
    "import openai"
   ]
  },
  {
   "cell_type": "code",
   "execution_count": null,
   "id": "399d7b6c-7b1b-4207-9d48-889b77f2c926",
   "metadata": {},
   "outputs": [],
   "source": [
    "os.environ[\"OPENAI_API_KEY\"] = getpass.getpass(\"Enter your OpenAI API key: \")"
   ]
  },
  {
   "cell_type": "code",
   "execution_count": null,
   "id": "7d60e1dc-014a-4a82-b13f-015d10785a26",
   "metadata": {},
   "outputs": [],
   "source": [
    "from openai import OpenAI\n",
    "client = OpenAI()\n",
    "\n",
    "response = client.audio.speech.create(\n",
    "  model=\"tts-1\",\n",
    "  voice=\"fable\",\n",
    "  input=\"To be, or not to be, that is the question.\"\n",
    ")\n",
    "\n",
    "response.write_to_file('speech.mp3')"
   ]
  },
  {
   "cell_type": "code",
   "execution_count": null,
   "id": "77a5832b-9ae2-4436-8ba3-f9eaa40ed1a0",
   "metadata": {},
   "outputs": [],
   "source": []
  }
 ],
 "metadata": {
  "kernelspec": {
   "display_name": "Python 3 (ipykernel)",
   "language": "python",
   "name": "python3"
  },
  "language_info": {
   "codemirror_mode": {
    "name": "ipython",
    "version": 3
   },
   "file_extension": ".py",
   "mimetype": "text/x-python",
   "name": "python",
   "nbconvert_exporter": "python",
   "pygments_lexer": "ipython3",
   "version": "3.12.4"
  }
 },
 "nbformat": 4,
 "nbformat_minor": 5
}
